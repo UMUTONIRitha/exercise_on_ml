{
 "cells": [
  {
   "cell_type": "code",
   "execution_count": 1,
   "id": "5841af65",
   "metadata": {},
   "outputs": [
    {
     "name": "stdout",
     "output_type": "stream",
     "text": [
      "6\n"
     ]
    }
   ],
   "source": [
    "my_list=[4,2,6,5,0,1,-2]\n",
    "print(max(my_list))"
   ]
  },
  {
   "cell_type": "code",
   "execution_count": 2,
   "id": "9ce4aebb",
   "metadata": {},
   "outputs": [
    {
     "name": "stdout",
     "output_type": "stream",
     "text": [
      "programming,IS,DB\n"
     ]
    }
   ],
   "source": [
    "my_dict={'names':'UMUTONI Ritha',\n",
    "         'degree':'bachelor in Information Systems',\n",
    "         'courses':'programming,IS,DB'\n",
    "    \n",
    "}\n",
    "print(my_dict['courses'])"
   ]
  },
  {
   "cell_type": "code",
   "execution_count": null,
   "id": "d27dec88",
   "metadata": {},
   "outputs": [],
   "source": []
  }
 ],
 "metadata": {
  "kernelspec": {
   "display_name": "Python 3 (ipykernel)",
   "language": "python",
   "name": "python3"
  },
  "language_info": {
   "codemirror_mode": {
    "name": "ipython",
    "version": 3
   },
   "file_extension": ".py",
   "mimetype": "text/x-python",
   "name": "python",
   "nbconvert_exporter": "python",
   "pygments_lexer": "ipython3",
   "version": "3.9.7"
  }
 },
 "nbformat": 4,
 "nbformat_minor": 5
}
