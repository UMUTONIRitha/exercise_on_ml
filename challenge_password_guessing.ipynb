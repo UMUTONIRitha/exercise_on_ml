{
 "cells": [
  {
   "cell_type": "code",
   "execution_count": 11,
   "id": "f0a3dd1b",
   "metadata": {},
   "outputs": [
    {
     "name": "stdout",
     "output_type": "stream",
     "text": [
      "Enter password : rita\n",
      "Password length have to be between 6 and 12 character\n",
      "Invalid password\n"
     ]
    }
   ],
   "source": [
    "import re\n",
    "password= input('Enter password : ')\n",
    "check=True\n",
    "while check:  \n",
    "    if (len(password)<6 or len(password)>12): \n",
    "        print('Password length have to be between 6 and 12 character')\n",
    "        break\n",
    "    elif not re.search(\"[a-z]\",password):\n",
    "        print('The password must contain at least one lower case')\n",
    "        break\n",
    "    elif not re.search(\"[0-9]\",password):\n",
    "        print('The password must contain at least one number')\n",
    "        break\n",
    "    elif not re.search(\"[A-Z]\",password):\n",
    "        print('The password must contain at least one upper case')\n",
    "        break\n",
    "    elif not re.search(\"[$#@]\",password):\n",
    "        print(f'The password must contain at least one special like [$#@]')\n",
    "        break\n",
    "    elif re.search(\"\\s\",password):\n",
    "        break\n",
    "    else:\n",
    "        print('Valid password')\n",
    "        check=False\n",
    "        break\n",
    "\n",
    "if check:\n",
    "    print('Invalid password')"
   ]
  },
  {
   "cell_type": "code",
   "execution_count": null,
   "id": "5c132b63",
   "metadata": {},
   "outputs": [
    {
     "name": "stdout",
     "output_type": "stream",
     "text": [
      " Guessing numbers   \n",
      "You have only 5 chances to make the right guess \n"
     ]
    }
   ],
   "source": [
    "from datetime import datetime \n",
    "\n",
    "print(' Guessing numbers   ')\n",
    "\n",
    "secret_number=9\n",
    "guess_count=0\n",
    "guess_limit=5\n",
    "print('You have only 5 chances to make the right guess ')\n",
    "\n",
    "start_time = datetime.now()\n",
    "while guess_count < guess_limit:\n",
    "    guess=int(input('Guess  '))\n",
    "    guess_count+=1\n",
    "    \n",
    "    \n",
    "    if guess==secret_number:\n",
    "        print(f'conglate, the secret number is {secret_number}')\n",
    "        break\n",
    "else:\n",
    "    print(f'You failed, the secret number is {secret_number}')\n",
    "\n",
    "\n",
    "time_elapsed = datetime.now() - start_time \n",
    "\n",
    "print('Time elapsed (hh:mm:ss.ms) {}'.format(time_elapsed))\n",
    "\n",
    "\n",
    "\n"
   ]
  },
  {
   "cell_type": "code",
   "execution_count": null,
   "id": "27b24881",
   "metadata": {},
   "outputs": [],
   "source": []
  },
  {
   "cell_type": "code",
   "execution_count": null,
   "id": "bff3e161",
   "metadata": {},
   "outputs": [],
   "source": []
  }
 ],
 "metadata": {
  "kernelspec": {
   "display_name": "Python 3 (ipykernel)",
   "language": "python",
   "name": "python3"
  },
  "language_info": {
   "codemirror_mode": {
    "name": "ipython",
    "version": 3
   },
   "file_extension": ".py",
   "mimetype": "text/x-python",
   "name": "python",
   "nbconvert_exporter": "python",
   "pygments_lexer": "ipython3",
   "version": "3.9.7"
  }
 },
 "nbformat": 4,
 "nbformat_minor": 5
}
