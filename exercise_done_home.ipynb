{
 "cells": [
  {
   "cell_type": "code",
   "execution_count": 1,
   "id": "5841af65",
   "metadata": {},
   "outputs": [
    {
     "name": "stdout",
     "output_type": "stream",
     "text": [
      "6\n"
     ]
    }
   ],
   "source": [
    "my_list=[4,2,6,5,0,1,-2]\n",
    "print(max(my_list))"
   ]
  },
  {
   "cell_type": "code",
   "execution_count": 36,
   "id": "54b3b304",
   "metadata": {},
   "outputs": [
    {
     "name": "stdout",
     "output_type": "stream",
     "text": [
      "['programming', 'IS', 'DB']\n"
     ]
    }
   ],
   "source": [
    "my_dict={'names':'UMUTONI Ritha',\n",
    "         'degree':'bachelor in Information Systems',\n",
    "         'courses':['programming','IS','DB']\n",
    "    \n",
    "}\n",
    "print(my_dict['courses'])"
   ]
  },
  {
   "cell_type": "code",
   "execution_count": 15,
   "id": "089672fd",
   "metadata": {},
   "outputs": [
    {
     "name": "stdout",
     "output_type": "stream",
     "text": [
      "59\n"
     ]
    }
   ],
   "source": [
    "list =[12,5,34,8]\n",
    "total=0\n",
    "for x in list:\n",
    "    #print(x)\n",
    "    total=total+x\n",
    "print(total)\n",
    "    \n"
   ]
  },
  {
   "cell_type": "code",
   "execution_count": 37,
   "id": "d6c442bf",
   "metadata": {},
   "outputs": [
    {
     "data": {
      "text/plain": [
       "206"
      ]
     },
     "execution_count": 37,
     "metadata": {},
     "output_type": "execute_result"
    }
   ],
   "source": [
    "def sum(numbers):\n",
    "    total=0\n",
    "    for x in numbers:\n",
    "        total = total+x\n",
    "    return total\n",
    "sum([92,34,56,7,8,9])\n",
    "\n",
    "    "
   ]
  },
  {
   "cell_type": "code",
   "execution_count": 7,
   "id": "22c5fce8",
   "metadata": {},
   "outputs": [
    {
     "name": "stdout",
     "output_type": "stream",
     "text": [
      " the number is in the range : 5\n"
     ]
    }
   ],
   "source": [
    "def check_range(n):\n",
    "    if n in range(3,9):\n",
    "        print( \" the number is in the range :\", str(n))\n",
    "    else :\n",
    "        print(\"The number is not in the given range.\")\n",
    "check_range(5)"
   ]
  },
  {
   "cell_type": "code",
   "execution_count": null,
   "id": "897e4e33",
   "metadata": {},
   "outputs": [],
   "source": []
  },
  {
   "cell_type": "code",
   "execution_count": null,
   "id": "a29387fc",
   "metadata": {},
   "outputs": [],
   "source": []
  },
  {
   "cell_type": "code",
   "execution_count": null,
   "id": "363e44c7",
   "metadata": {},
   "outputs": [],
   "source": []
  }
 ],
 "metadata": {
  "kernelspec": {
   "display_name": "Python 3 (ipykernel)",
   "language": "python",
   "name": "python3"
  },
  "language_info": {
   "codemirror_mode": {
    "name": "ipython",
    "version": 3
   },
   "file_extension": ".py",
   "mimetype": "text/x-python",
   "name": "python",
   "nbconvert_exporter": "python",
   "pygments_lexer": "ipython3",
   "version": "3.9.7"
  }
 },
 "nbformat": 4,
 "nbformat_minor": 5
}
