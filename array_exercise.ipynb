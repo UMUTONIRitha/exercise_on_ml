{
 "cells": [
  {
   "cell_type": "code",
   "execution_count": 1,
   "id": "5e403ffe",
   "metadata": {},
   "outputs": [],
   "source": [
    "import numpy as np"
   ]
  },
  {
   "cell_type": "code",
   "execution_count": 2,
   "id": "2b2d66e0",
   "metadata": {},
   "outputs": [
    {
     "name": "stdout",
     "output_type": "stream",
     "text": [
      "[[1. 1. 1. 1. 1.]\n",
      " [1. 1. 1. 1. 1.]]\n"
     ]
    }
   ],
   "source": [
    "a = np.ones((2,5), dtype = np.float32)\n",
    "print(a)"
   ]
  },
  {
   "cell_type": "code",
   "execution_count": 4,
   "id": "fe448073",
   "metadata": {},
   "outputs": [
    {
     "name": "stdout",
     "output_type": "stream",
     "text": [
      "[[0. 0. 0.]\n",
      " [0. 0. 0.]\n",
      " [0. 0. 0.]]\n"
     ]
    }
   ],
   "source": [
    "b = np.zeros((3,3), dtype = np.float32)\n",
    "print(b)"
   ]
  },
  {
   "cell_type": "code",
   "execution_count": 5,
   "id": "7867e7b6",
   "metadata": {},
   "outputs": [
    {
     "name": "stdout",
     "output_type": "stream",
     "text": [
      "2 (2, 3) int32\n"
     ]
    }
   ],
   "source": [
    "c = np.array([[1,2,3],[4,5,6]])\n",
    "print(c.ndim, c.shape, c.dtype)"
   ]
  },
  {
   "cell_type": "code",
   "execution_count": 7,
   "id": "c7c036e3",
   "metadata": {},
   "outputs": [
    {
     "name": "stdout",
     "output_type": "stream",
     "text": [
      "[5 6 7 8 9]\n"
     ]
    }
   ],
   "source": [
    "d = np.arange(5,10)\n",
    "print(d)"
   ]
  },
  {
   "cell_type": "code",
   "execution_count": 9,
   "id": "9c856673",
   "metadata": {},
   "outputs": [
    {
     "name": "stdout",
     "output_type": "stream",
     "text": [
      "[1 4 7]\n"
     ]
    }
   ],
   "source": [
    "e = np.arange(1,10,2)\n",
    "print(e)"
   ]
  },
  {
   "cell_type": "code",
   "execution_count": 11,
   "id": "afe59ccb",
   "metadata": {},
   "outputs": [
    {
     "name": "stdout",
     "output_type": "stream",
     "text": [
      "[2.  2.2 2.4 2.6 2.8]\n"
     ]
    }
   ],
   "source": [
    "f = np.linspace (2.0, 3.0, num=5, endpoint=False)\n",
    "print(f)"
   ]
  },
  {
   "cell_type": "code",
   "execution_count": 12,
   "id": "a39ae4c5",
   "metadata": {},
   "outputs": [
    {
     "name": "stdout",
     "output_type": "stream",
     "text": [
      "[2.   2.25 2.5  2.75 3.  ]\n"
     ]
    }
   ],
   "source": [
    "f = np.linspace (2.0, 3.0, num=5)\n",
    "print(f)"
   ]
  },
  {
   "cell_type": "code",
   "execution_count": 13,
   "id": "1eea7da7",
   "metadata": {},
   "outputs": [
    {
     "name": "stdout",
     "output_type": "stream",
     "text": [
      "[2.         2.02040816 2.04081633 2.06122449 2.08163265 2.10204082\n",
      " 2.12244898 2.14285714 2.16326531 2.18367347 2.20408163 2.2244898\n",
      " 2.24489796 2.26530612 2.28571429 2.30612245 2.32653061 2.34693878\n",
      " 2.36734694 2.3877551  2.40816327 2.42857143 2.44897959 2.46938776\n",
      " 2.48979592 2.51020408 2.53061224 2.55102041 2.57142857 2.59183673\n",
      " 2.6122449  2.63265306 2.65306122 2.67346939 2.69387755 2.71428571\n",
      " 2.73469388 2.75510204 2.7755102  2.79591837 2.81632653 2.83673469\n",
      " 2.85714286 2.87755102 2.89795918 2.91836735 2.93877551 2.95918367\n",
      " 2.97959184 3.        ]\n"
     ]
    }
   ],
   "source": [
    "f = np.linspace (2.0, 3.0)\n",
    "print(f)"
   ]
  },
  {
   "cell_type": "code",
   "execution_count": 15,
   "id": "fe73b076",
   "metadata": {},
   "outputs": [
    {
     "name": "stdout",
     "output_type": "stream",
     "text": [
      "[[1.]\n",
      " [1.]\n",
      " [1.]]\n",
      "[[0. 0.]\n",
      " [0. 0.]\n",
      " [0. 0.]]\n",
      "[[1. 0. 0.]\n",
      " [1. 0. 0.]\n",
      " [1. 0. 0.]]\n"
     ]
    }
   ],
   "source": [
    "a = np.ones((3,1))\n",
    "print(a)\n",
    "b = np.zeros((3,2))\n",
    "print(b)\n",
    "c = np.concatenate([a,b], axis=1)\n",
    "print(c)"
   ]
  },
  {
   "cell_type": "code",
   "execution_count": 16,
   "id": "1c48e789",
   "metadata": {},
   "outputs": [
    {
     "name": "stdout",
     "output_type": "stream",
     "text": [
      "[[1. 1. 1.]]\n",
      "[[0. 0. 0.]\n",
      " [0. 0. 0.]\n",
      " [0. 0. 0.]]\n",
      "[[1. 1. 1.]\n",
      " [0. 0. 0.]\n",
      " [0. 0. 0.]\n",
      " [0. 0. 0.]]\n"
     ]
    }
   ],
   "source": [
    "a = np.ones((1,3))\n",
    "print(a)\n",
    "b = np.zeros((3,3))\n",
    "print(b)\n",
    "c = np.concatenate([a,b], axis=0)\n",
    "print(c)"
   ]
  },
  {
   "cell_type": "code",
   "execution_count": 17,
   "id": "c7e0cc30",
   "metadata": {},
   "outputs": [
    {
     "name": "stdout",
     "output_type": "stream",
     "text": [
      "[[1. 1.]\n",
      " [1. 1.]]\n",
      "[[0. 0.]\n",
      " [0. 0.]]\n"
     ]
    }
   ],
   "source": [
    "a = np.ones((2,2))\n",
    "print(a)\n",
    "b = np.zeros_like(a)\n",
    "print(b)"
   ]
  },
  {
   "cell_type": "code",
   "execution_count": 19,
   "id": "83f68758",
   "metadata": {},
   "outputs": [
    {
     "name": "stdout",
     "output_type": "stream",
     "text": [
      "[[0.47429834 0.97871245 0.42812239 0.30761135 0.69436879]\n",
      " [0.82528608 0.07181598 0.57737078 0.43372781 0.25280539]\n",
      " [0.66931101 0.69281982 0.21688674 0.87733977 0.38484968]]\n"
     ]
    }
   ],
   "source": [
    "x = np.random.rand(3,5)\n",
    "print(x)"
   ]
  },
  {
   "cell_type": "code",
   "execution_count": 21,
   "id": "e4ce0dff",
   "metadata": {},
   "outputs": [
    {
     "name": "stdout",
     "output_type": "stream",
     "text": [
      "[[5 5]\n",
      " [7 9]]\n"
     ]
    }
   ],
   "source": [
    "x = np.random.randint(5, 10, size=(2, 2))\n",
    "print(x)"
   ]
  },
  {
   "cell_type": "code",
   "execution_count": 23,
   "id": "36a96e37",
   "metadata": {},
   "outputs": [
    {
     "name": "stdout",
     "output_type": "stream",
     "text": [
      "[[1 2 3 4]\n",
      " [5 6 7 8]]\n"
     ]
    }
   ],
   "source": [
    "p = np.array([[1,2,3,4], [5,6,7,8]])\n",
    "print(p)"
   ]
  },
  {
   "cell_type": "code",
   "execution_count": 24,
   "id": "5849b6d3",
   "metadata": {},
   "outputs": [
    {
     "data": {
      "text/plain": [
       "2"
      ]
     },
     "execution_count": 24,
     "metadata": {},
     "output_type": "execute_result"
    }
   ],
   "source": [
    "p[0][1]"
   ]
  },
  {
   "cell_type": "code",
   "execution_count": 25,
   "id": "c6d35d91",
   "metadata": {},
   "outputs": [
    {
     "data": {
      "text/plain": [
       "array([[1, 2, 3]])"
      ]
     },
     "execution_count": 25,
     "metadata": {},
     "output_type": "execute_result"
    }
   ],
   "source": [
    "p[0:1,0:3]"
   ]
  },
  {
   "cell_type": "code",
   "execution_count": 30,
   "id": "bebff04d",
   "metadata": {},
   "outputs": [
    {
     "name": "stdout",
     "output_type": "stream",
     "text": [
      "[2 5 8 5 2]\n"
     ]
    }
   ],
   "source": [
    "y = np.array([1,2,3,4,5,6,7,8,9])\n",
    "#o = np.array([1,4,7])\n",
    "s = y[[1,4,7,4,1]]\n",
    "print(s)"
   ]
  },
  {
   "cell_type": "code",
   "execution_count": null,
   "id": "18597fe0",
   "metadata": {},
   "outputs": [],
   "source": []
  }
 ],
 "metadata": {
  "kernelspec": {
   "display_name": "Python 3 (ipykernel)",
   "language": "python",
   "name": "python3"
  },
  "language_info": {
   "codemirror_mode": {
    "name": "ipython",
    "version": 3
   },
   "file_extension": ".py",
   "mimetype": "text/x-python",
   "name": "python",
   "nbconvert_exporter": "python",
   "pygments_lexer": "ipython3",
   "version": "3.9.7"
  }
 },
 "nbformat": 4,
 "nbformat_minor": 5
}
