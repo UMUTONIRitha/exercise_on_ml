{
 "cells": [
  {
   "cell_type": "code",
   "execution_count": 1,
   "id": "64276b02",
   "metadata": {},
   "outputs": [
    {
     "name": "stdout",
     "output_type": "stream",
     "text": [
      "4.0\n"
     ]
    }
   ],
   "source": [
    "import math\n",
    "print(math.sqrt(16))"
   ]
  },
  {
   "cell_type": "code",
   "execution_count": 2,
   "id": "bfa6e789",
   "metadata": {},
   "outputs": [
    {
     "name": "stdout",
     "output_type": "stream",
     "text": [
      "w\n"
     ]
    }
   ],
   "source": [
    "big=max('hello world')\n",
    "print(big)"
   ]
  },
  {
   "cell_type": "code",
   "execution_count": 4,
   "id": "16391949",
   "metadata": {},
   "outputs": [
    {
     "name": "stdout",
     "output_type": "stream",
     "text": [
      "6.283185307179586\n"
     ]
    }
   ],
   "source": [
    "s=2*(math.pi)\n",
    "print(s)"
   ]
  },
  {
   "cell_type": "code",
   "execution_count": 5,
   "id": "8f1a6c9d",
   "metadata": {},
   "outputs": [
    {
     "name": "stdout",
     "output_type": "stream",
     "text": [
      "1\n"
     ]
    }
   ],
   "source": [
    "a=int(3/2)\n",
    "print(a)"
   ]
  },
  {
   "cell_type": "code",
   "execution_count": 10,
   "id": "547d6cf0",
   "metadata": {},
   "outputs": [
    {
     "name": "stdout",
     "output_type": "stream",
     "text": [
      "i am blessed\n"
     ]
    }
   ],
   "source": [
    "def stringme(str):\n",
    "    print(str)\n",
    "    return\n",
    "stringme('i am blessed')"
   ]
  },
  {
   "cell_type": "code",
   "execution_count": 13,
   "id": "61254438",
   "metadata": {},
   "outputs": [
    {
     "name": "stdout",
     "output_type": "stream",
     "text": [
      "blessed ritha\n"
     ]
    }
   ],
   "source": [
    "stringme('blessed ritha')"
   ]
  },
  {
   "cell_type": "code",
   "execution_count": 12,
   "id": "b712c7b1",
   "metadata": {},
   "outputs": [
    {
     "name": "stdout",
     "output_type": "stream",
     "text": [
      "be happy,because i am happy\n"
     ]
    }
   ],
   "source": [
    "def happy():\n",
    "    print('be happy,because i am happy')\n",
    "happy()"
   ]
  },
  {
   "cell_type": "code",
   "execution_count": 14,
   "id": "18b62b1a",
   "metadata": {},
   "outputs": [
    {
     "name": "stdout",
     "output_type": "stream",
     "text": [
      "morning\n"
     ]
    }
   ],
   "source": [
    "def greet(lang):\n",
    "    if lang=='eng':\n",
    "        print('morning')\n",
    "    elif lang=='fr':\n",
    "        print('bonjour')\n",
    "    else:\n",
    "        print('hello')\n",
    "        \n",
    "    return\n",
    "greet('eng')"
   ]
  },
  {
   "cell_type": "code",
   "execution_count": 15,
   "id": "1129a1dc",
   "metadata": {},
   "outputs": [
    {
     "name": "stdout",
     "output_type": "stream",
     "text": [
      "hello\n"
     ]
    }
   ],
   "source": [
    "greet('chinese')"
   ]
  },
  {
   "cell_type": "code",
   "execution_count": 16,
   "id": "268e4825",
   "metadata": {},
   "outputs": [
    {
     "name": "stdout",
     "output_type": "stream",
     "text": [
      "bonjour\n"
     ]
    }
   ],
   "source": [
    "greet('fr')"
   ]
  },
  {
   "cell_type": "code",
   "execution_count": 20,
   "id": "84ec9845",
   "metadata": {},
   "outputs": [
    {
     "data": {
      "text/plain": [
       "28"
      ]
     },
     "execution_count": 20,
     "metadata": {},
     "output_type": "execute_result"
    }
   ],
   "source": [
    "def added(a,b):\n",
    "    sum=a+b\n",
    "    #print(sum)\n",
    "    return sum\n",
    "added(23,5)\n"
   ]
  },
  {
   "cell_type": "code",
   "execution_count": 21,
   "id": "09461bc0",
   "metadata": {},
   "outputs": [
    {
     "name": "stdout",
     "output_type": "stream",
     "text": [
      "salut,marie,this is ritha\n"
     ]
    }
   ],
   "source": [
    "def say_hello(speaker,person_to_greet,greeting='salut'):\n",
    "    print(f'{greeting},{person_to_greet},this is {speaker}')\n",
    "    return\n",
    "say_hello('ritha','marie')"
   ]
  },
  {
   "cell_type": "code",
   "execution_count": 26,
   "id": "713abd35",
   "metadata": {},
   "outputs": [
    {
     "name": "stdout",
     "output_type": "stream",
     "text": [
      "Hello ritha\n"
     ]
    }
   ],
   "source": [
    "def process_string(str):\n",
    "    t=str.strip()\n",
    "    return t[0].upper()+t[1:]\n",
    "str = process_string('hello ritha')\n",
    "print(f'{str}')"
   ]
  },
  {
   "cell_type": "code",
   "execution_count": 28,
   "id": "301ee3ff",
   "metadata": {},
   "outputs": [
    {
     "data": {
      "text/plain": [
       "['Cat', 'Dog', 'Horse']"
      ]
     },
     "execution_count": 28,
     "metadata": {},
     "output_type": "execute_result"
    }
   ],
   "source": [
    "li=['cat', 'dog', 'horse']\n",
    "list(map(process_string, li))\n"
   ]
  },
  {
   "cell_type": "code",
   "execution_count": 31,
   "id": "62ac968e",
   "metadata": {},
   "outputs": [
    {
     "name": "stdout",
     "output_type": "stream",
     "text": [
      "[6, 8, 8, 9, 10]\n"
     ]
    }
   ],
   "source": [
    "def greater(a):\n",
    "    return a>5\n",
    "l=[1,6,8,3,8,9,4,10]\n",
    "l2=list(filter(greater,l))\n",
    "print(l2)"
   ]
  },
  {
   "cell_type": "code",
   "execution_count": 32,
   "id": "ab27a347",
   "metadata": {},
   "outputs": [
    {
     "name": "stdout",
     "output_type": "stream",
     "text": [
      "[10, 34, 56, 23, 6]\n"
     ]
    }
   ],
   "source": [
    "l=[1,10,34,56,23,4,2,3,6]\n",
    "l2=list(filter(lambda x: x>5, l))\n",
    "print(l2)"
   ]
  },
  {
   "cell_type": "code",
   "execution_count": 36,
   "id": "15cbe3f6",
   "metadata": {},
   "outputs": [
    {
     "name": "stdout",
     "output_type": "stream",
     "text": [
      "inside the function local tots: 60\n",
      "outside the function global total:  0\n"
     ]
    }
   ],
   "source": [
    "total=0\n",
    "def sum(x,y):\n",
    "    total = x+y\n",
    "    print('inside the function local tots:',total)\n",
    "    return total\n",
    "sum(10,50)\n",
    "print('outside the function global total: ', total)"
   ]
  },
  {
   "cell_type": "code",
   "execution_count": 3,
   "id": "d46d43b7",
   "metadata": {},
   "outputs": [],
   "source": [
    "def operations(x):\n",
    "    if x%2 == 0:\n",
    "        return True, 1,'this is a string'\n",
    "    \n",
    "    return False, 1, '3rd value'\n",
    "\n",
    "\n",
    "    "
   ]
  },
  {
   "cell_type": "code",
   "execution_count": 4,
   "id": "ef0c83a8",
   "metadata": {},
   "outputs": [
    {
     "name": "stdout",
     "output_type": "stream",
     "text": [
      "return 1 True\n",
      "return 2 1\n",
      "return 3 this is a string\n"
     ]
    }
   ],
   "source": [
    "re1, re2, re3 = operations(10)\n",
    "print('return 1', re1)\n",
    "print('return 2', re2)\n",
    "print('return 3', re3)"
   ]
  },
  {
   "cell_type": "code",
   "execution_count": 5,
   "id": "5a13335c",
   "metadata": {},
   "outputs": [],
   "source": [
    "def adder(x,y,z):\n",
    "    print('sum',x+y+z)"
   ]
  },
  {
   "cell_type": "code",
   "execution_count": 6,
   "id": "92ebf5f5",
   "metadata": {},
   "outputs": [
    {
     "name": "stdout",
     "output_type": "stream",
     "text": [
      "sum 102\n"
     ]
    }
   ],
   "source": [
    "adder(12,34,56)"
   ]
  },
  {
   "cell_type": "code",
   "execution_count": 7,
   "id": "8ba02478",
   "metadata": {},
   "outputs": [],
   "source": [
    "def adder(*num): #python *args\n",
    "    sum=0\n",
    "    for n in num:\n",
    "        sum = sum + n\n",
    "    print('sum',sum)\n"
   ]
  },
  {
   "cell_type": "code",
   "execution_count": 8,
   "id": "966128ef",
   "metadata": {},
   "outputs": [
    {
     "name": "stdout",
     "output_type": "stream",
     "text": [
      "sum 282\n"
     ]
    }
   ],
   "source": [
    "adder(112,34,56,78,2)"
   ]
  },
  {
   "cell_type": "code",
   "execution_count": 9,
   "id": "115033f4",
   "metadata": {},
   "outputs": [
    {
     "name": "stdout",
     "output_type": "stream",
     "text": [
      "sum 5\n"
     ]
    }
   ],
   "source": [
    "adder(1+4)"
   ]
  },
  {
   "cell_type": "code",
   "execution_count": null,
   "id": "30b29e40",
   "metadata": {},
   "outputs": [],
   "source": [
    "###python **Kwargs\n",
    "\n",
    "def intro(**data):\n",
    "    print('\\n data type of argument:',type(data))\n",
    "    \n",
    "    for key, vlue in data.items():\n",
    "        print('{} is {}')"
   ]
  }
 ],
 "metadata": {
  "kernelspec": {
   "display_name": "Python 3 (ipykernel)",
   "language": "python",
   "name": "python3"
  },
  "language_info": {
   "codemirror_mode": {
    "name": "ipython",
    "version": 3
   },
   "file_extension": ".py",
   "mimetype": "text/x-python",
   "name": "python",
   "nbconvert_exporter": "python",
   "pygments_lexer": "ipython3",
   "version": "3.9.7"
  }
 },
 "nbformat": 4,
 "nbformat_minor": 5
}
