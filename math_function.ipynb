{
 "cells": [
  {
   "cell_type": "code",
   "execution_count": 1,
   "id": "375b669b",
   "metadata": {},
   "outputs": [
    {
     "name": "stdout",
     "output_type": "stream",
     "text": [
      "4.0\n"
     ]
    }
   ],
   "source": [
    "import math\n",
    "print(math.sqrt(16))"
   ]
  },
  {
   "cell_type": "code",
   "execution_count": 2,
   "id": "0cb0d0c1",
   "metadata": {},
   "outputs": [
    {
     "name": "stdout",
     "output_type": "stream",
     "text": [
      "w\n"
     ]
    }
   ],
   "source": [
    "big=max('hello world')\n",
    "print(big)"
   ]
  },
  {
   "cell_type": "code",
   "execution_count": 4,
   "id": "1ae4cad6",
   "metadata": {},
   "outputs": [
    {
     "name": "stdout",
     "output_type": "stream",
     "text": [
      "6.283185307179586\n"
     ]
    }
   ],
   "source": [
    "s=2*(math.pi)\n",
    "print(s)"
   ]
  },
  {
   "cell_type": "code",
   "execution_count": 5,
   "id": "a8684d00",
   "metadata": {},
   "outputs": [
    {
     "name": "stdout",
     "output_type": "stream",
     "text": [
      "1\n"
     ]
    }
   ],
   "source": [
    "a=int(3/2)\n",
    "print(a)"
   ]
  },
  {
   "cell_type": "code",
   "execution_count": 10,
   "id": "c1b429c3",
   "metadata": {},
   "outputs": [
    {
     "name": "stdout",
     "output_type": "stream",
     "text": [
      "i am blessed\n"
     ]
    }
   ],
   "source": [
    "def stringme(str):\n",
    "    print(str)\n",
    "    return\n",
    "stringme('i am blessed')"
   ]
  },
  {
   "cell_type": "code",
   "execution_count": 13,
   "id": "48890bfe",
   "metadata": {},
   "outputs": [
    {
     "name": "stdout",
     "output_type": "stream",
     "text": [
      "blessed ritha\n"
     ]
    }
   ],
   "source": [
    "stringme('blessed ritha')"
   ]
  },
  {
   "cell_type": "code",
   "execution_count": 12,
   "id": "d70e996d",
   "metadata": {},
   "outputs": [
    {
     "name": "stdout",
     "output_type": "stream",
     "text": [
      "be happy,because i am happy\n"
     ]
    }
   ],
   "source": [
    "def happy():\n",
    "    print('be happy,because i am happy')\n",
    "happy()"
   ]
  },
  {
   "cell_type": "code",
   "execution_count": 14,
   "id": "d0c1d23c",
   "metadata": {},
   "outputs": [
    {
     "name": "stdout",
     "output_type": "stream",
     "text": [
      "morning\n"
     ]
    }
   ],
   "source": [
    "def greet(lang):\n",
    "    if lang=='eng':\n",
    "        print('morning')\n",
    "    elif lang=='fr':\n",
    "        print('bonjour')\n",
    "    else:\n",
    "        print('hello')\n",
    "        \n",
    "    return\n",
    "greet('eng')"
   ]
  },
  {
   "cell_type": "code",
   "execution_count": 15,
   "id": "9cc384f0",
   "metadata": {},
   "outputs": [
    {
     "name": "stdout",
     "output_type": "stream",
     "text": [
      "hello\n"
     ]
    }
   ],
   "source": [
    "greet('chinese')"
   ]
  },
  {
   "cell_type": "code",
   "execution_count": 16,
   "id": "f33ce2d9",
   "metadata": {},
   "outputs": [
    {
     "name": "stdout",
     "output_type": "stream",
     "text": [
      "bonjour\n"
     ]
    }
   ],
   "source": [
    "greet('fr')"
   ]
  },
  {
   "cell_type": "code",
   "execution_count": 20,
   "id": "dd0f5b5a",
   "metadata": {},
   "outputs": [
    {
     "data": {
      "text/plain": [
       "28"
      ]
     },
     "execution_count": 20,
     "metadata": {},
     "output_type": "execute_result"
    }
   ],
   "source": [
    "def added(a,b):\n",
    "    sum=a+b\n",
    "    #print(sum)\n",
    "    return sum\n",
    "added(23,5)\n"
   ]
  },
  {
   "cell_type": "code",
   "execution_count": 21,
   "id": "fe4bdd15",
   "metadata": {},
   "outputs": [
    {
     "name": "stdout",
     "output_type": "stream",
     "text": [
      "salut,marie,this is ritha\n"
     ]
    }
   ],
   "source": [
    "def say_hello(speaker,person_to_greet,greeting='salut'):\n",
    "    print(f'{greeting},{person_to_greet},this is {speaker}')\n",
    "    return\n",
    "say_hello('ritha','marie')"
   ]
  },
  {
   "cell_type": "code",
   "execution_count": 26,
   "id": "4d09386b",
   "metadata": {},
   "outputs": [
    {
     "name": "stdout",
     "output_type": "stream",
     "text": [
      "Hello ritha\n"
     ]
    }
   ],
   "source": [
    "def process_string(str):\n",
    "    t=str.strip()\n",
    "    return t[0].upper()+t[1:]\n",
    "str = process_string('hello ritha')\n",
    "print(f'{str}')"
   ]
  },
  {
   "cell_type": "code",
   "execution_count": 28,
   "id": "377a3789",
   "metadata": {},
   "outputs": [
    {
     "data": {
      "text/plain": [
       "['Cat', 'Dog', 'Horse']"
      ]
     },
     "execution_count": 28,
     "metadata": {},
     "output_type": "execute_result"
    }
   ],
   "source": [
    "li=['cat', 'dog', 'horse']\n",
    "list(map(process_string, li))\n"
   ]
  },
  {
   "cell_type": "code",
   "execution_count": 31,
   "id": "6e662a90",
   "metadata": {},
   "outputs": [
    {
     "name": "stdout",
     "output_type": "stream",
     "text": [
      "[6, 8, 8, 9, 10]\n"
     ]
    }
   ],
   "source": [
    "def greater(a):\n",
    "    return a>5\n",
    "l=[1,6,8,3,8,9,4,10]\n",
    "l2=list(filter(greater,l))\n",
    "print(l2)"
   ]
  },
  {
   "cell_type": "code",
   "execution_count": 32,
   "id": "6e37586d",
   "metadata": {},
   "outputs": [
    {
     "name": "stdout",
     "output_type": "stream",
     "text": [
      "[10, 34, 56, 23, 6]\n"
     ]
    }
   ],
   "source": [
    "l=[1,10,34,56,23,4,2,3,6]\n",
    "l2=list(filter(lambda x: x>5, l))\n",
    "print(l2)"
   ]
  },
  {
   "cell_type": "code",
   "execution_count": 36,
   "id": "c166091f",
   "metadata": {},
   "outputs": [
    {
     "name": "stdout",
     "output_type": "stream",
     "text": [
      "inside the function local tots: 60\n",
      "outside the function global total:  0\n"
     ]
    }
   ],
   "source": [
    "total=0\n",
    "def sum(x,y):\n",
    "    total = x+y\n",
    "    print('inside the function local tots:',total)\n",
    "    return total\n",
    "sum(10,50)\n",
    "print('outside the function global total: ', total)"
   ]
  },
  {
   "cell_type": "code",
   "execution_count": null,
   "id": "920dd58a",
   "metadata": {},
   "outputs": [],
   "source": []
  }
 ],
 "metadata": {
  "kernelspec": {
   "display_name": "Python 3 (ipykernel)",
   "language": "python",
   "name": "python3"
  },
  "language_info": {
   "codemirror_mode": {
    "name": "ipython",
    "version": 3
   },
   "file_extension": ".py",
   "mimetype": "text/x-python",
   "name": "python",
   "nbconvert_exporter": "python",
   "pygments_lexer": "ipython3",
   "version": "3.9.7"
  }
 },
 "nbformat": 4,
 "nbformat_minor": 5
}
